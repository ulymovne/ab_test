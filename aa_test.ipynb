{
 "cells": [
  {
   "cell_type": "code",
   "execution_count": 64,
   "id": "afe0e924-e3ef-486d-b1f2-935fc0bac14b",
   "metadata": {},
   "outputs": [],
   "source": [
    "import numpy as np\n",
    "import matplotlib.pyplot as plt\n",
    "import seaborn as sns\n",
    "from read_db.CH import Getch\n",
    "import pandas as pd\n",
    "import scipy.stats as stats"
   ]
  },
  {
   "cell_type": "code",
   "execution_count": 65,
   "id": "51fb5dd0-2b61-466f-bb8a-048bbe30c506",
   "metadata": {},
   "outputs": [],
   "source": [
    "query_1 = \"\"\"\n",
    "SELECT user_id, exp_group,\n",
    "  countIf(post_id, action='like') AS likes,\n",
    "  countIf(post_id, action='view') AS views,\n",
    "  round(likes / views, 4) AS ctr\n",
    "FROM simulator.feed_actions\n",
    "WHERE (toDate(time) BETWEEN '2021-11-08' AND '2021-11-14') AND exp_group in (2, 3)\n",
    "GROUP BY user_id, exp_group\n",
    "\"\"\"\n",
    "data_all = Getch(query_1).df"
   ]
  },
  {
   "cell_type": "code",
   "execution_count": 66,
   "id": "06a51ccb-1f1a-400c-a0ae-8eb1f66535a1",
   "metadata": {},
   "outputs": [
    {
     "data": {
      "text/html": [
       "<div>\n",
       "<style scoped>\n",
       "    .dataframe tbody tr th:only-of-type {\n",
       "        vertical-align: middle;\n",
       "    }\n",
       "\n",
       "    .dataframe tbody tr th {\n",
       "        vertical-align: top;\n",
       "    }\n",
       "\n",
       "    .dataframe thead th {\n",
       "        text-align: right;\n",
       "    }\n",
       "</style>\n",
       "<table border=\"1\" class=\"dataframe\">\n",
       "  <thead>\n",
       "    <tr style=\"text-align: right;\">\n",
       "      <th></th>\n",
       "      <th>user_id</th>\n",
       "      <th>exp_group</th>\n",
       "      <th>likes</th>\n",
       "      <th>views</th>\n",
       "      <th>ctr</th>\n",
       "    </tr>\n",
       "  </thead>\n",
       "  <tbody>\n",
       "    <tr>\n",
       "      <th>0</th>\n",
       "      <td>115383</td>\n",
       "      <td>3</td>\n",
       "      <td>27</td>\n",
       "      <td>160</td>\n",
       "      <td>0.1688</td>\n",
       "    </tr>\n",
       "    <tr>\n",
       "      <th>1</th>\n",
       "      <td>10326</td>\n",
       "      <td>3</td>\n",
       "      <td>7</td>\n",
       "      <td>61</td>\n",
       "      <td>0.1148</td>\n",
       "    </tr>\n",
       "    <tr>\n",
       "      <th>2</th>\n",
       "      <td>131473</td>\n",
       "      <td>2</td>\n",
       "      <td>16</td>\n",
       "      <td>101</td>\n",
       "      <td>0.1584</td>\n",
       "    </tr>\n",
       "    <tr>\n",
       "      <th>3</th>\n",
       "      <td>123580</td>\n",
       "      <td>3</td>\n",
       "      <td>11</td>\n",
       "      <td>72</td>\n",
       "      <td>0.1528</td>\n",
       "    </tr>\n",
       "    <tr>\n",
       "      <th>4</th>\n",
       "      <td>23985</td>\n",
       "      <td>2</td>\n",
       "      <td>8</td>\n",
       "      <td>34</td>\n",
       "      <td>0.2353</td>\n",
       "    </tr>\n",
       "    <tr>\n",
       "      <th>...</th>\n",
       "      <td>...</td>\n",
       "      <td>...</td>\n",
       "      <td>...</td>\n",
       "      <td>...</td>\n",
       "      <td>...</td>\n",
       "    </tr>\n",
       "    <tr>\n",
       "      <th>16845</th>\n",
       "      <td>122008</td>\n",
       "      <td>3</td>\n",
       "      <td>19</td>\n",
       "      <td>125</td>\n",
       "      <td>0.1520</td>\n",
       "    </tr>\n",
       "    <tr>\n",
       "      <th>16846</th>\n",
       "      <td>25383</td>\n",
       "      <td>2</td>\n",
       "      <td>3</td>\n",
       "      <td>28</td>\n",
       "      <td>0.1071</td>\n",
       "    </tr>\n",
       "    <tr>\n",
       "      <th>16847</th>\n",
       "      <td>122190</td>\n",
       "      <td>3</td>\n",
       "      <td>40</td>\n",
       "      <td>200</td>\n",
       "      <td>0.2000</td>\n",
       "    </tr>\n",
       "    <tr>\n",
       "      <th>16848</th>\n",
       "      <td>108927</td>\n",
       "      <td>2</td>\n",
       "      <td>13</td>\n",
       "      <td>54</td>\n",
       "      <td>0.2407</td>\n",
       "    </tr>\n",
       "    <tr>\n",
       "      <th>16849</th>\n",
       "      <td>17310</td>\n",
       "      <td>2</td>\n",
       "      <td>3</td>\n",
       "      <td>15</td>\n",
       "      <td>0.2000</td>\n",
       "    </tr>\n",
       "  </tbody>\n",
       "</table>\n",
       "<p>16850 rows × 5 columns</p>\n",
       "</div>"
      ],
      "text/plain": [
       "       user_id  exp_group  likes  views     ctr\n",
       "0       115383          3     27    160  0.1688\n",
       "1        10326          3      7     61  0.1148\n",
       "2       131473          2     16    101  0.1584\n",
       "3       123580          3     11     72  0.1528\n",
       "4        23985          2      8     34  0.2353\n",
       "...        ...        ...    ...    ...     ...\n",
       "16845   122008          3     19    125  0.1520\n",
       "16846    25383          2      3     28  0.1071\n",
       "16847   122190          3     40    200  0.2000\n",
       "16848   108927          2     13     54  0.2407\n",
       "16849    17310          2      3     15  0.2000\n",
       "\n",
       "[16850 rows x 5 columns]"
      ]
     },
     "execution_count": 66,
     "metadata": {},
     "output_type": "execute_result"
    }
   ],
   "source": [
    "data_all"
   ]
  },
  {
   "cell_type": "raw",
   "id": "upset-garbage",
   "metadata": {},
   "source": [
    "Смотрим на распределение CTR в 2 и 3 группах"
   ]
  },
  {
   "cell_type": "code",
   "execution_count": 67,
   "id": "9cbc5515-2b67-4ca9-b0bd-2c5d4a51fc99",
   "metadata": {},
   "outputs": [],
   "source": [
    "sns.set_style('whitegrid')\n",
    "#sns.set()"
   ]
  },
  {
   "cell_type": "code",
   "execution_count": 68,
   "id": "0683b022-8392-4a40-b31a-fbfe57875e04",
   "metadata": {},
   "outputs": [],
   "source": [
    "df_2 = data_all[data_all.exp_group == 2].ctr\n",
    "df_3 = data_all[data_all.exp_group == 3].ctr"
   ]
  },
  {
   "cell_type": "code",
   "execution_count": null,
   "id": "a4530259-ca3f-4c6a-92fa-f9e20c928548",
   "metadata": {},
   "outputs": [],
   "source": []
  },
  {
   "cell_type": "code",
   "execution_count": 70,
   "id": "9910566b-458e-4ef2-9efb-6e5f778481f9",
   "metadata": {},
   "outputs": [
    {
     "data": {
      "text/plain": [
       "<seaborn.axisgrid.FacetGrid at 0x7f8053b1a4f0>"
      ]
     },
     "execution_count": 70,
     "metadata": {},
     "output_type": "execute_result"
    },
    {
     "data": {
      "image/png": "[encoded data removed]",
      "text/plain": [
       "<Figure size 720x720 with 1 Axes>"
      ]
     },
     "metadata": {},
     "output_type": "display_data"
    }
   ],
   "source": [
    "sns.displot(df_2, height=10)"
   ]
  },
  {
   "cell_type": "code",
   "execution_count": 71,
   "id": "08bdbc29-2dec-47fa-b079-c07c0f784511",
   "metadata": {},
   "outputs": [
    {
     "data": {
      "text/plain": [
       "<seaborn.axisgrid.FacetGrid at 0x7f8053812550>"
      ]
     },
     "execution_count": 71,
     "metadata": {},
     "output_type": "execute_result"
    },
    {
     "data": {
      "image/png": "[encoded data removed]",
      "text/plain": [
       "<Figure size 720x720 with 1 Axes>"
      ]
     },
     "metadata": {},
     "output_type": "display_data"
    }
   ],
   "source": [
    "sns.displot(df_3, height=10)"
   ]
  },
  {
   "cell_type": "raw",
   "id": "bf7ca456-9573-411a-9d45-13140a59f109",
   "metadata": {},
   "source": [
    "Сравним выборки через непараметрику и t-test"
   ]
  },
  {
   "cell_type": "code",
   "execution_count": 74,
   "id": "48ec137b-9373-4388-a151-f25856ea8580",
   "metadata": {},
   "outputs": [
    {
     "data": {
      "text/plain": [
       "MannwhitneyuResult(statistic=35271340.0, pvalue=0.48922099382740425)"
      ]
     },
     "execution_count": 74,
     "metadata": {},
     "output_type": "execute_result"
    }
   ],
   "source": [
    "stats.mannwhitneyu(df_3, df_2)"
   ]
  },
  {
   "cell_type": "code",
   "execution_count": 75,
   "id": "54aa8175-e9c7-45f2-8e01-09eff47ccb5b",
   "metadata": {},
   "outputs": [
    {
     "data": {
      "text/plain": [
       "Ttest_indResult(statistic=-0.2672653173920841, pvalue=0.789268159786294)"
      ]
     },
     "execution_count": 75,
     "metadata": {},
     "output_type": "execute_result"
    }
   ],
   "source": [
    "stats.ttest_ind(df_3, df_2)"
   ]
  },
  {
   "cell_type": "raw",
   "id": "0c4aed02-8471-4f02-a12b-f02e855a8958",
   "metadata": {},
   "source": [
    "p-value>0.05, следовательно мы не можем отвергнуть нулевую гипотезу."
   ]
  },
  {
   "cell_type": "markdown",
   "id": "6f5ef1c9-ba19-40d5-a5dd-0a63dfec694c",
   "metadata": {},
   "source": [
    "Функция симуляции проведения 10000 АА-тестов (через ttest) "
   ]
  },
  {
   "cell_type": "code",
   "execution_count": 79,
   "id": "cdbd29de-4a6d-4776-ab6d-517c61c746ad",
   "metadata": {},
   "outputs": [],
   "source": [
    "def fake_aa_t(df1, df2, n_samples = 10000, size_sample = 500):\n",
    "    ttest_data = []\n",
    "    for i in range(n_samples):\n",
    "        resample1_data = df1.sample(n=size_sample, replace=True)\n",
    "        resample2_data = df2.sample(n=size_sample, replace=True)\n",
    "        ttest_data.append(stats.ttest_ind(resample1_data, resample2_data).pvalue)\n",
    "    sns.displot(ttest_data, height=7)\n",
    "    ser_tt = pd.Series(ttest_data)\n",
    "    return ser_tt[ser_tt<=0.05].shape[0]/ser_tt.shape[0]"
   ]
  },
  {
   "cell_type": "code",
   "execution_count": 80,
   "id": "66bc3cc2-b751-47bc-88e1-f936a87a6617",
   "metadata": {},
   "outputs": [
    {
     "data": {
      "image/png": "[encoded data removed]",
      "text/plain": [
       "<Figure size 504x504 with 1 Axes>"
      ]
     },
     "metadata": {},
     "output_type": "display_data"
    }
   ],
   "source": [
    "percent = fake_aa_t(df_2, df_3)*100"
   ]
  },
  {
   "cell_type": "code",
   "execution_count": 81,
   "id": "06ba31ae-92cf-4369-ad83-0e665e93a8d9",
   "metadata": {},
   "outputs": [
    {
     "name": "stdout",
     "output_type": "stream",
     "text": [
      "Процент p-values <= 0.05:  5.25\n"
     ]
    }
   ],
   "source": [
    "print('Процент p-values <= 0.05: ', percent)"
   ]
  },
  {
   "cell_type": "markdown",
   "id": "8c2caae2-62cc-4d79-91c8-bf743748d467",
   "metadata": {},
   "source": [
    "Вывод: Распределение p-value равномерно, количество значений меньших 0.05 около 5%, следовательно, система сплитования работает корректно."
   ]
  },
  {
   "cell_type": "code",
   "execution_count": null,
   "id": "2f1ad27e-9340-4c23-9854-72e0e8929b88",
   "metadata": {},
   "outputs": [],
   "source": []
  },
  {
   "cell_type": "raw",
   "id": "b54193ab-564b-4848-b728-3b33ba12605f",
   "metadata": {},
   "source": [
    "Дополнительно проведем расчет через Манна-Уитни, т.к распределения в 500 выборок не будут нормальными (хотя размер в 500 наблюдей вполне разрешает проведение t-test). "
   ]
  },
  {
   "cell_type": "code",
   "execution_count": 82,
   "id": "9f9b43f4-8fca-4d03-8065-541159e5b3f2",
   "metadata": {},
   "outputs": [],
   "source": [
    "def fake_aa_mann(df1, df2, n_samples = 10000, size_sample = 500):\n",
    "    mann_data = []\n",
    "    for i in range(n_samples):\n",
    "        resample1_data = df1.sample(n=size_sample, replace=True)\n",
    "        resample2_data = df2.sample(n=size_sample, replace=True)\n",
    "        mann_data.append(stats.mannwhitneyu(resample1_data, resample2_data).pvalue)\n",
    "    sns.displot(mann_data, height=7)\n",
    "    ser_mann = pd.Series(mann_data)\n",
    "    return ser_mann[ser_mann <= 0.05].shape[0]/ser_mann.shape[0]"
   ]
  },
  {
   "cell_type": "code",
   "execution_count": 83,
   "id": "393ffa95-d2b1-4c8f-b453-c0cb6025976b",
   "metadata": {},
   "outputs": [
    {
     "data": {
      "image/png": "[encoded data removed]",
      "text/plain": [
       "<Figure size 504x504 with 1 Axes>"
      ]
     },
     "metadata": {},
     "output_type": "display_data"
    }
   ],
   "source": [
    "percent2 = fake_aa_mann(df_2, df_3)*100"
   ]
  },
  {
   "cell_type": "code",
   "execution_count": 84,
   "id": "745f3e31-1a4c-4ddd-b450-143d4fc44bba",
   "metadata": {},
   "outputs": [
    {
     "name": "stdout",
     "output_type": "stream",
     "text": [
      "Процент p-values <= 0.05:  5.2299999999999995\n"
     ]
    }
   ],
   "source": [
    "print('Процент p-values <= 0.05: ', percent2)"
   ]
  },
  {
   "cell_type": "markdown",
   "id": "67ef5ef0-e664-48db-8516-4a361f66e29f",
   "metadata": {},
   "source": [
    "Вывод: Получили аналогичные результаты как и при использовании t-test. Система сплитования работает корректно."
   ]
  },
  {
   "cell_type": "code",
   "execution_count": null,
   "id": "75961061-00e5-4cdf-bb11-f55d1cf199fa",
   "metadata": {},
   "outputs": [],
   "source": []
  }
 ],
 "metadata": {
  "kernelspec": {
   "display_name": "Python 3",
   "language": "python",
   "name": "python3"
  },
  "language_info": {
   "codemirror_mode": {
    "name": "ipython",
    "version": 3
   },
   "file_extension": ".py",
   "mimetype": "text/x-python",
   "name": "python",
   "nbconvert_exporter": "python",
   "pygments_lexer": "ipython3",
   "version": "3.8.5"
  },
  "toc": {
   "base_numbering": 1,
   "nav_menu": {},
   "number_sections": true,
   "sideBar": true,
   "skip_h1_title": false,
   "title_cell": "Table of Contents",
   "title_sidebar": "Contents",
   "toc_cell": false,
   "toc_position": {},
   "toc_section_display": true,
   "toc_window_display": false
  },
  "varInspector": {
   "cols": {
    "lenName": 16,
    "lenType": 16,
    "lenVar": 40
   },
   "kernels_config": {
    "python": {
     "delete_cmd_postfix": "",
     "delete_cmd_prefix": "del ",
     "library": "var_list.py",
     "varRefreshCmd": "print(var_dic_list())"
    },
    "r": {
     "delete_cmd_postfix": ") ",
     "delete_cmd_prefix": "rm(",
     "library": "var_list.r",
     "varRefreshCmd": "cat(var_dic_list()) "
    }
   },
   "types_to_exclude": [
    "module",
    "function",
    "builtin_function_or_method",
    "instance",
    "_Feature"
   ],
   "window_display": false
  }
 },
 "nbformat": 4,
 "nbformat_minor": 5
}
