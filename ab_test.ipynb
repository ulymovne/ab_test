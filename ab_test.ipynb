{
 "cells": [
  {
   "cell_type": "code",
   "execution_count": 136,
   "id": "e13ca8e3-9892-4293-b538-efe4dc4004a5",
   "metadata": {},
   "outputs": [],
   "source": [
    "import numpy as np\n",
    "import matplotlib.pyplot as plt\n",
    "import seaborn as sns\n",
    "from read_db.CH import Getch\n",
    "import pandas as pd\n",
    "import scipy.stats as stats"
   ]
  },
  {
   "cell_type": "raw",
   "id": "65d4cd18-497e-48ad-9e3d-243053d1b7b7",
   "metadata": {},
   "source": [
    "Получаем данные 0 и 1 подгрупп, за период с 2021-11-29 по 2021-12-05 включительно."
   ]
  },
  {
   "cell_type": "code",
   "execution_count": 137,
   "id": "0a48396e-15dc-494b-b7f1-749eb9e53dcb",
   "metadata": {},
   "outputs": [],
   "source": [
    "query_1 = \"\"\"\n",
    "SELECT user_id, exp_group,\n",
    "  countIf(post_id, action='like') AS likes,\n",
    "  countIf(post_id, action='view') AS views,\n",
    "  round(likes / views, 4) AS ctr\n",
    "FROM simulator.feed_actions\n",
    "WHERE (toDate(time) BETWEEN '2021-11-29' AND '2021-12-05') AND exp_group in (0, 1)\n",
    "GROUP BY user_id, exp_group\n",
    "\"\"\"\n",
    "df = Getch(query_1).df"
   ]
  },
  {
   "cell_type": "code",
   "execution_count": 140,
   "id": "ea0ca8f2-c74f-4ffd-bd74-5675ca33c19a",
   "metadata": {},
   "outputs": [
    {
     "data": {
      "text/html": [
       "<div>\n",
       "<style scoped>\n",
       "    .dataframe tbody tr th:only-of-type {\n",
       "        vertical-align: middle;\n",
       "    }\n",
       "\n",
       "    .dataframe tbody tr th {\n",
       "        vertical-align: top;\n",
       "    }\n",
       "\n",
       "    .dataframe thead th {\n",
       "        text-align: right;\n",
       "    }\n",
       "</style>\n",
       "<table border=\"1\" class=\"dataframe\">\n",
       "  <thead>\n",
       "    <tr style=\"text-align: right;\">\n",
       "      <th></th>\n",
       "      <th>user_id</th>\n",
       "      <th>exp_group</th>\n",
       "      <th>likes</th>\n",
       "      <th>views</th>\n",
       "      <th>ctr</th>\n",
       "    </tr>\n",
       "  </thead>\n",
       "  <tbody>\n",
       "    <tr>\n",
       "      <th>0</th>\n",
       "      <td>109963</td>\n",
       "      <td>1</td>\n",
       "      <td>4</td>\n",
       "      <td>13</td>\n",
       "      <td>0.3077</td>\n",
       "    </tr>\n",
       "    <tr>\n",
       "      <th>1</th>\n",
       "      <td>138232</td>\n",
       "      <td>1</td>\n",
       "      <td>41</td>\n",
       "      <td>166</td>\n",
       "      <td>0.2470</td>\n",
       "    </tr>\n",
       "    <tr>\n",
       "      <th>2</th>\n",
       "      <td>49204</td>\n",
       "      <td>1</td>\n",
       "      <td>39</td>\n",
       "      <td>134</td>\n",
       "      <td>0.2910</td>\n",
       "    </tr>\n",
       "    <tr>\n",
       "      <th>3</th>\n",
       "      <td>49286</td>\n",
       "      <td>1</td>\n",
       "      <td>6</td>\n",
       "      <td>61</td>\n",
       "      <td>0.0984</td>\n",
       "    </tr>\n",
       "    <tr>\n",
       "      <th>4</th>\n",
       "      <td>145957</td>\n",
       "      <td>1</td>\n",
       "      <td>46</td>\n",
       "      <td>202</td>\n",
       "      <td>0.2277</td>\n",
       "    </tr>\n",
       "    <tr>\n",
       "      <th>...</th>\n",
       "      <td>...</td>\n",
       "      <td>...</td>\n",
       "      <td>...</td>\n",
       "      <td>...</td>\n",
       "      <td>...</td>\n",
       "    </tr>\n",
       "    <tr>\n",
       "      <th>25019</th>\n",
       "      <td>23359</td>\n",
       "      <td>1</td>\n",
       "      <td>20</td>\n",
       "      <td>91</td>\n",
       "      <td>0.2198</td>\n",
       "    </tr>\n",
       "    <tr>\n",
       "      <th>25020</th>\n",
       "      <td>3681</td>\n",
       "      <td>0</td>\n",
       "      <td>6</td>\n",
       "      <td>26</td>\n",
       "      <td>0.2308</td>\n",
       "    </tr>\n",
       "    <tr>\n",
       "      <th>25021</th>\n",
       "      <td>110956</td>\n",
       "      <td>1</td>\n",
       "      <td>6</td>\n",
       "      <td>36</td>\n",
       "      <td>0.1667</td>\n",
       "    </tr>\n",
       "    <tr>\n",
       "      <th>25022</th>\n",
       "      <td>132567</td>\n",
       "      <td>1</td>\n",
       "      <td>3</td>\n",
       "      <td>14</td>\n",
       "      <td>0.2143</td>\n",
       "    </tr>\n",
       "    <tr>\n",
       "      <th>25023</th>\n",
       "      <td>140764</td>\n",
       "      <td>1</td>\n",
       "      <td>21</td>\n",
       "      <td>90</td>\n",
       "      <td>0.2333</td>\n",
       "    </tr>\n",
       "  </tbody>\n",
       "</table>\n",
       "<p>25024 rows × 5 columns</p>\n",
       "</div>"
      ],
      "text/plain": [
       "       user_id  exp_group  likes  views     ctr\n",
       "0       109963          1      4     13  0.3077\n",
       "1       138232          1     41    166  0.2470\n",
       "2        49204          1     39    134  0.2910\n",
       "3        49286          1      6     61  0.0984\n",
       "4       145957          1     46    202  0.2277\n",
       "...        ...        ...    ...    ...     ...\n",
       "25019    23359          1     20     91  0.2198\n",
       "25020     3681          0      6     26  0.2308\n",
       "25021   110956          1      6     36  0.1667\n",
       "25022   132567          1      3     14  0.2143\n",
       "25023   140764          1     21     90  0.2333\n",
       "\n",
       "[25024 rows x 5 columns]"
      ]
     },
     "execution_count": 140,
     "metadata": {},
     "output_type": "execute_result"
    }
   ],
   "source": [
    "df"
   ]
  },
  {
   "cell_type": "markdown",
   "id": "095f7d57-6ec5-4366-86f7-b2b5084f7a69",
   "metadata": {},
   "source": [
    "Проверим, что CTR у группы 1 выше, чем у группы 0."
   ]
  },
  {
   "cell_type": "code",
   "execution_count": 141,
   "id": "fec02663-dae3-4d83-ab6e-d8fd56a86acd",
   "metadata": {},
   "outputs": [],
   "source": [
    "df_0 = df[df.exp_group == 0]\n",
    "df_1 = df[df.exp_group == 1]"
   ]
  },
  {
   "cell_type": "code",
   "execution_count": 142,
   "id": "0769df6d-4823-4981-84d5-e19e30e64034",
   "metadata": {},
   "outputs": [
    {
     "data": {
      "text/plain": [
       "(0.21823558479063052, 0.2338133381111642)"
      ]
     },
     "execution_count": 142,
     "metadata": {},
     "output_type": "execute_result"
    }
   ],
   "source": [
    "df_0.ctr.mean(), df_1.ctr.mean()"
   ]
  },
  {
   "cell_type": "raw",
   "id": "160433dc-9949-41f2-8ad5-40ddfce2cad3",
   "metadata": {},
   "source": [
    "Также сравним глобальный CTR"
   ]
  },
  {
   "cell_type": "code",
   "execution_count": 143,
   "id": "c1a2b8f1-1020-4b6d-be79-c08e945110c0",
   "metadata": {},
   "outputs": [
    {
     "data": {
      "text/plain": [
       "(0.21147823480932046, 0.22743163713356582)"
      ]
     },
     "execution_count": 143,
     "metadata": {},
     "output_type": "execute_result"
    }
   ],
   "source": [
    "glob_ctr_0 = df_0.likes.sum() / df_0.views.sum()\n",
    "glob_ctr_1 = df_1.likes.sum() / df_1.views.sum()\n",
    "glob_ctr_0, glob_ctr_1"
   ]
  },
  {
   "cell_type": "raw",
   "id": "91389874-55c6-40e0-b6e1-600e579f7a67",
   "metadata": {},
   "source": [
    "ОК. Рост CTR у подгруппы 1, в сравнении с подгруппой 0 - есть. Проверим, значимо ли различие."
   ]
  },
  {
   "cell_type": "code",
   "execution_count": 144,
   "id": "933cfd97-5858-43f1-a77e-9b1761ce7f53",
   "metadata": {},
   "outputs": [
    {
     "data": {
      "text/plain": [
       "MannwhitneyuResult(statistic=68878148.5, pvalue=9.161605313320773e-61)"
      ]
     },
     "execution_count": 144,
     "metadata": {},
     "output_type": "execute_result"
    }
   ],
   "source": [
    "stats.mannwhitneyu(df_0.ctr, df_1.ctr)"
   ]
  },
  {
   "cell_type": "code",
   "execution_count": null,
   "id": "d317d06b-43e5-4317-b108-d7bf9d612cfd",
   "metadata": {},
   "outputs": [],
   "source": [
    "P-value сильно меньше 0.05, значит различие значимо."
   ]
  },
  {
   "cell_type": "code",
   "execution_count": null,
   "id": "45afb594-9e2a-44bb-babb-451c58919eb6",
   "metadata": {},
   "outputs": [],
   "source": []
  },
  {
   "cell_type": "markdown",
   "id": "c28d7125-9de4-400e-bb15-7a67c6ce03ca",
   "metadata": {},
   "source": [
    "Проверим, не ухудшились ли другие показатели, в частности просмотры постов."
   ]
  },
  {
   "cell_type": "code",
   "execution_count": 152,
   "id": "05ea8f9f-6be0-46c6-b53c-959e1d37f96d",
   "metadata": {},
   "outputs": [
    {
     "data": {
      "text/plain": [
       "<seaborn.axisgrid.FacetGrid at 0x7fa9b8dfadf0>"
      ]
     },
     "execution_count": 152,
     "metadata": {},
     "output_type": "execute_result"
    },
    {
     "data": {
      "image/png": "[encoded data removed]",
      "text/plain": [
       "<Figure size 504x504 with 1 Axes>"
      ]
     },
     "metadata": {},
     "output_type": "display_data"
    }
   ],
   "source": [
    "sns.displot(df_0.views, height=7)"
   ]
  },
  {
   "cell_type": "code",
   "execution_count": 153,
   "id": "0578a37f-f518-4d1e-aea9-c80930848deb",
   "metadata": {},
   "outputs": [
    {
     "data": {
      "text/plain": [
       "<seaborn.axisgrid.FacetGrid at 0x7fa9b8c8b0a0>"
      ]
     },
     "execution_count": 153,
     "metadata": {},
     "output_type": "execute_result"
    },
    {
     "data": {
      "image/png": "[encoded data removed]",
      "text/plain": [
       "<Figure size 504x504 with 1 Axes>"
      ]
     },
     "metadata": {},
     "output_type": "display_data"
    }
   ],
   "source": [
    "sns.displot(df_1.views, height=7)"
   ]
  },
  {
   "cell_type": "code",
   "execution_count": 154,
   "id": "1ba39616-a7a2-41f1-9554-c1a608c971b3",
   "metadata": {},
   "outputs": [
    {
     "data": {
      "text/plain": [
       "Ttest_indResult(statistic=0.8406840013351474, pvalue=0.40053301881455616)"
      ]
     },
     "execution_count": 154,
     "metadata": {},
     "output_type": "execute_result"
    }
   ],
   "source": [
    "stats.ttest_ind(df_0.views, df_1.views)"
   ]
  },
  {
   "cell_type": "code",
   "execution_count": 155,
   "id": "d7e073c3-c61d-4685-afbd-827767cb4530",
   "metadata": {},
   "outputs": [
    {
     "data": {
      "text/plain": [
       "MannwhitneyuResult(statistic=78750995.5, pvalue=0.4038172766227185)"
      ]
     },
     "execution_count": 155,
     "metadata": {},
     "output_type": "execute_result"
    }
   ],
   "source": [
    "stats.mannwhitneyu(df_0.views, df_1.views)"
   ]
  },
  {
   "cell_type": "raw",
   "id": "spare-incident",
   "metadata": {},
   "source": [
    "Оба теста показывают, что отклонить нулевую гипотезу мы не можем."
   ]
  },
  {
   "cell_type": "raw",
   "id": "wound-protocol",
   "metadata": {},
   "source": [
    "Рекомендация - можем раскатывать алгоритм на всех новых пользователей. Так как это приводит к росту CTR, и не ухудшает другие показатели."
   ]
  },
  {
   "cell_type": "raw",
   "id": "encouraging-architect",
   "metadata": {},
   "source": []
  }
 ],
 "metadata": {
  "kernelspec": {
   "display_name": "Python 3",
   "language": "python",
   "name": "python3"
  },
  "language_info": {
   "codemirror_mode": {
    "name": "ipython",
    "version": 3
   },
   "file_extension": ".py",
   "mimetype": "text/x-python",
   "name": "python",
   "nbconvert_exporter": "python",
   "pygments_lexer": "ipython3",
   "version": "3.8.5"
  },
  "toc": {
   "base_numbering": 1,
   "nav_menu": {},
   "number_sections": true,
   "sideBar": true,
   "skip_h1_title": false,
   "title_cell": "Table of Contents",
   "title_sidebar": "Contents",
   "toc_cell": false,
   "toc_position": {},
   "toc_section_display": true,
   "toc_window_display": false
  },
  "varInspector": {
   "cols": {
    "lenName": 16,
    "lenType": 16,
    "lenVar": 40
   },
   "kernels_config": {
    "python": {
     "delete_cmd_postfix": "",
     "delete_cmd_prefix": "del ",
     "library": "var_list.py",
     "varRefreshCmd": "print(var_dic_list())"
    },
    "r": {
     "delete_cmd_postfix": ") ",
     "delete_cmd_prefix": "rm(",
     "library": "var_list.r",
     "varRefreshCmd": "cat(var_dic_list()) "
    }
   },
   "types_to_exclude": [
    "module",
    "function",
    "builtin_function_or_method",
    "instance",
    "_Feature"
   ],
   "window_display": false
  }
 },
 "nbformat": 4,
 "nbformat_minor": 5
}
